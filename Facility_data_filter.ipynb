{
 "cells": [
  {
   "cell_type": "code",
   "execution_count": 78,
   "id": "a3cafac0",
   "metadata": {
    "scrolled": true
   },
   "outputs": [
    {
     "name": "stdout",
     "output_type": "stream",
     "text": [
      "Defaulting to user installation because normal site-packages is not writeable\n",
      "Requirement already satisfied: pandas in /home/deekali/.local/lib/python3.10/site-packages (2.2.2)\n",
      "Requirement already satisfied: numpy>=1.22.4 in /home/deekali/.local/lib/python3.10/site-packages (from pandas) (2.0.1)\n",
      "Requirement already satisfied: python-dateutil>=2.8.2 in /home/deekali/.local/lib/python3.10/site-packages (from pandas) (2.9.0.post0)\n",
      "Requirement already satisfied: pytz>=2020.1 in /usr/lib/python3/dist-packages (from pandas) (2022.1)\n",
      "Requirement already satisfied: tzdata>=2022.7 in /home/deekali/.local/lib/python3.10/site-packages (from pandas) (2024.1)\n",
      "Requirement already satisfied: six>=1.5 in /usr/lib/python3/dist-packages (from python-dateutil>=2.8.2->pandas) (1.16.0)\n",
      "\n",
      "\u001b[1m[\u001b[0m\u001b[34;49mnotice\u001b[0m\u001b[1;39;49m]\u001b[0m\u001b[39;49m A new release of pip is available: \u001b[0m\u001b[31;49m24.0\u001b[0m\u001b[39;49m -> \u001b[0m\u001b[32;49m24.2\u001b[0m\n",
      "\u001b[1m[\u001b[0m\u001b[34;49mnotice\u001b[0m\u001b[1;39;49m]\u001b[0m\u001b[39;49m To update, run: \u001b[0m\u001b[32;49mpython3 -m pip install --upgrade pip\u001b[0m\n",
      "Note: you may need to restart the kernel to use updated packages.\n"
     ]
    }
   ],
   "source": [
    "pip install pandas"
   ]
  },
  {
   "cell_type": "code",
   "execution_count": 83,
   "id": "4dd62b90",
   "metadata": {},
   "outputs": [
    {
     "name": "stdout",
     "output_type": "stream",
     "text": [
      "Done!\n"
     ]
    },
    {
     "name": "stderr",
     "output_type": "stream",
     "text": [
      "/tmp/ipykernel_9607/3410358986.py:41: SettingWithCopyWarning: \n",
      "A value is trying to be set on a copy of a slice from a DataFrame.\n",
      "Try using .loc[row_indexer,col_indexer] = value instead\n",
      "\n",
      "See the caveats in the documentation: https://pandas.pydata.org/pandas-docs/stable/user_guide/indexing.html#returning-a-view-versus-a-copy\n",
      "  dfSorted['service_names'] = dfSorted['service_names'].apply(lambda x: convert_array_to_string(x, allowed_services))\n",
      "/tmp/ipykernel_9607/3410358986.py:43: SettingWithCopyWarning: \n",
      "A value is trying to be set on a copy of a slice from a DataFrame\n",
      "\n",
      "See the caveats in the documentation: https://pandas.pydata.org/pandas-docs/stable/user_guide/indexing.html#returning-a-view-versus-a-copy\n",
      "  dfSorted.rename(columns={\n"
     ]
    }
   ],
   "source": [
    "import pandas as pd\n",
    "import json\n",
    "\n",
    "# Function to convert array to string and filter specific terms\n",
    "def convert_array_to_string(services, allowed_services=[]):\n",
    "    if isinstance(services, str):  # Check 'services' is a string\n",
    "#         services_list = [service.strip() for service in services.split(',')]\n",
    "        services_list = services.split(', ')\n",
    "    elif isinstance(services, list): # Check 'services' is a list\n",
    "        services_list = services\n",
    "    else:\n",
    "        return ''\n",
    "    \n",
    "    filtered_arr = [service for service in services_list if service in allowed_services]\n",
    "    return ', '.join(filtered_arr)\n",
    "\n",
    "with open(\"HIV prevention_b2.json\", \"r\") as dataList:\n",
    "    raw = json.load(dataList)\n",
    "    \n",
    "df = pd.json_normalize(raw)\n",
    "# allowed_services = ['Antiretroviral Therapy', 'HIV treatment and care','Adherence, preparation, monitoring and support']\n",
    "allowed_services = ['ARV for PREP',\n",
    "                    'TB/HIV Coinfection Prevention and management',\n",
    "                    'Post-Exposure Prophylaxis (PEP)',\n",
    "                    'Condom Distribution & STI Prevention',\n",
    "                   'Opportunistic Infections, screening and prevention',\n",
    "                   'HBV/HCV Coinfection Prevention and Management',\n",
    "                   'Nutrition assessment ,counselling and support ( The NACS process) for PLHIVs',\n",
    "                   'Management of Sexually Transmitted Illness (STI)',\n",
    "                    'VMMC-Voluntary Medical Male Circumcision Services',\n",
    "                    'HIV preventive Package',\n",
    "                    'HEI - HIV exposed infants',\n",
    "                    'HIV risk reduction for Key populations',\n",
    "                    'Infection Prevention and control to mitigate HIV infection in the work place',\n",
    "                    'HIV risk reduction services for prioity populations and geographies',\n",
    "                    'EMTCT-Elimination of Mother to Child  Transmission of HIV',\n",
    "                    'HIV Counselling & Testing'\n",
    "                   ]\n",
    "\n",
    "dfSorted = df[['officialname', 'keph_level_name', 'facility_type_name','county_name','sub_county_name','operation_status_name','service_names']]\n",
    "dfSorted['service_names'] = dfSorted['service_names'].apply(lambda x: convert_array_to_string(x, allowed_services))\n",
    "\n",
    "dfSorted.rename(columns={\n",
    "    'officialname':'official name',\n",
    "    'keph_level_name':'keph level name',\n",
    "    'facility_type_name':'facility type name',\n",
    "    'county_name':'county name','sub_county_name':'sub county name',\n",
    "    'operation_status_name':'operation status name',\n",
    "    'service_names':'service names'} ,inplace=True)\n",
    "\n",
    "dfSorted.to_csv(\"HIV prevention_b2.csv\", index=False)\n",
    "print(\"Done!\")"
   ]
  },
  {
   "cell_type": "code",
   "execution_count": 84,
   "id": "8cde07dd",
   "metadata": {},
   "outputs": [
    {
     "name": "stdout",
     "output_type": "stream",
     "text": [
      "0    HIV Counselling & Testing, Infection Preventio...\n",
      "1    HIV risk reduction services for prioity popula...\n",
      "2    HIV Counselling & Testing, Condom Distribution...\n",
      "3                            HIV Counselling & Testing\n",
      "4    HIV Counselling & Testing, Condom Distribution...\n",
      "Name: service names, dtype: object\n"
     ]
    }
   ],
   "source": [
    "print(dfSorted['service names'].head())"
   ]
  },
  {
   "cell_type": "code",
   "execution_count": 85,
   "id": "ee06a0e4",
   "metadata": {},
   "outputs": [
    {
     "data": {
      "text/plain": [
       "array(['official name', 'keph level name', 'facility type name',\n",
       "       'county name', 'sub county name', 'operation status name',\n",
       "       'service names'], dtype=object)"
      ]
     },
     "execution_count": 85,
     "metadata": {},
     "output_type": "execute_result"
    }
   ],
   "source": [
    "dfSorted.columns.values"
   ]
  },
  {
   "cell_type": "code",
   "execution_count": 86,
   "id": "c1fa8590",
   "metadata": {
    "scrolled": false
   },
   "outputs": [
    {
     "data": {
      "text/html": [
       "<div>\n",
       "<style scoped>\n",
       "    .dataframe tbody tr th:only-of-type {\n",
       "        vertical-align: middle;\n",
       "    }\n",
       "\n",
       "    .dataframe tbody tr th {\n",
       "        vertical-align: top;\n",
       "    }\n",
       "\n",
       "    .dataframe thead th {\n",
       "        text-align: right;\n",
       "    }\n",
       "</style>\n",
       "<table border=\"1\" class=\"dataframe\">\n",
       "  <thead>\n",
       "    <tr style=\"text-align: right;\">\n",
       "      <th></th>\n",
       "      <th>official name</th>\n",
       "      <th>keph level name</th>\n",
       "      <th>facility type name</th>\n",
       "      <th>county name</th>\n",
       "      <th>sub county name</th>\n",
       "      <th>operation status name</th>\n",
       "      <th>service names</th>\n",
       "    </tr>\n",
       "  </thead>\n",
       "  <tbody>\n",
       "    <tr>\n",
       "      <th>0</th>\n",
       "      <td>Mama Joyce Medical Clinic.</td>\n",
       "      <td>Level 2</td>\n",
       "      <td>Medical Clinic</td>\n",
       "      <td>Nyeri</td>\n",
       "      <td>Mukurweini</td>\n",
       "      <td>Operational</td>\n",
       "      <td>HIV Counselling &amp; Testing, Infection Preventio...</td>\n",
       "    </tr>\n",
       "    <tr>\n",
       "      <th>1</th>\n",
       "      <td>Dorcas Medical Clinic ( Kitui  West)</td>\n",
       "      <td>Level 2</td>\n",
       "      <td>Medical Clinic</td>\n",
       "      <td>Kitui</td>\n",
       "      <td>Kitui West</td>\n",
       "      <td>Operational</td>\n",
       "      <td>HIV risk reduction services for prioity popula...</td>\n",
       "    </tr>\n",
       "    <tr>\n",
       "      <th>2</th>\n",
       "      <td>Shasyt Annex Health Care Clinic</td>\n",
       "      <td>Level 3</td>\n",
       "      <td>Medical Center</td>\n",
       "      <td>Narok</td>\n",
       "      <td>Narok East</td>\n",
       "      <td>Operational</td>\n",
       "      <td>HIV Counselling &amp; Testing, Condom Distribution...</td>\n",
       "    </tr>\n",
       "    <tr>\n",
       "      <th>3</th>\n",
       "      <td>Mt.Elgon Endoscopy Centre-Kiambu</td>\n",
       "      <td>Level 3</td>\n",
       "      <td>Medical Center</td>\n",
       "      <td>Kiambu</td>\n",
       "      <td>Kiambu Town</td>\n",
       "      <td>Closed</td>\n",
       "      <td>HIV Counselling &amp; Testing</td>\n",
       "    </tr>\n",
       "    <tr>\n",
       "      <th>4</th>\n",
       "      <td>The St. Mary Intergrated Medical Centre</td>\n",
       "      <td>Level 2</td>\n",
       "      <td>Medical Clinic</td>\n",
       "      <td>Nairobi</td>\n",
       "      <td>Roysambu</td>\n",
       "      <td>Operational</td>\n",
       "      <td>HIV Counselling &amp; Testing, Condom Distribution...</td>\n",
       "    </tr>\n",
       "  </tbody>\n",
       "</table>\n",
       "</div>"
      ],
      "text/plain": [
       "                             official name keph level name facility type name  \\\n",
       "0               Mama Joyce Medical Clinic.         Level 2     Medical Clinic   \n",
       "1     Dorcas Medical Clinic ( Kitui  West)         Level 2     Medical Clinic   \n",
       "2          Shasyt Annex Health Care Clinic         Level 3     Medical Center   \n",
       "3         Mt.Elgon Endoscopy Centre-Kiambu         Level 3     Medical Center   \n",
       "4  The St. Mary Intergrated Medical Centre         Level 2     Medical Clinic   \n",
       "\n",
       "  county name sub county name operation status name  \\\n",
       "0       Nyeri      Mukurweini           Operational   \n",
       "1       Kitui      Kitui West           Operational   \n",
       "2       Narok      Narok East           Operational   \n",
       "3      Kiambu     Kiambu Town                Closed   \n",
       "4     Nairobi        Roysambu           Operational   \n",
       "\n",
       "                                       service names  \n",
       "0  HIV Counselling & Testing, Infection Preventio...  \n",
       "1  HIV risk reduction services for prioity popula...  \n",
       "2  HIV Counselling & Testing, Condom Distribution...  \n",
       "3                          HIV Counselling & Testing  \n",
       "4  HIV Counselling & Testing, Condom Distribution...  "
      ]
     },
     "execution_count": 86,
     "metadata": {},
     "output_type": "execute_result"
    }
   ],
   "source": [
    "dfSorted.head()"
   ]
  },
  {
   "cell_type": "code",
   "execution_count": null,
   "id": "3c9bd2eb",
   "metadata": {},
   "outputs": [],
   "source": []
  }
 ],
 "metadata": {
  "kernelspec": {
   "display_name": "Python 3 (ipykernel)",
   "language": "python",
   "name": "python3"
  },
  "language_info": {
   "codemirror_mode": {
    "name": "ipython",
    "version": 3
   },
   "file_extension": ".py",
   "mimetype": "text/x-python",
   "name": "python",
   "nbconvert_exporter": "python",
   "pygments_lexer": "ipython3",
   "version": "3.10.12"
  }
 },
 "nbformat": 4,
 "nbformat_minor": 5
}
